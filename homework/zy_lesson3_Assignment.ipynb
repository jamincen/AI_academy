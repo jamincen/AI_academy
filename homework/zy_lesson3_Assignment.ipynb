{
 "cells": [
  {
   "cell_type": "markdown",
   "metadata": {},
   "source": [
    "## 1. 实现`print`函数\n",
    "定义一个函数`print_string`，返回一个字符串。  \n",
    "`print_string`函数支持输入多个参数，每个参数间使用参数`sep`(默认一个空格)的字符进行连接，并且最后还要添加一个`end`(默认一个换行)参数的字符。  \n",
    "比如\n",
    "- `print_string('This is a test')` 返回`This is a test\\n`  \n",
    "- `print_string('This', 'is', 'a', 'test')` 返回`This is a test\\n`\n",
    "- `print_string('This', 'is', 'a', 'test', sep = '-')` 返回`This-is-a-test\\n`\n",
    "- `print_string('This', 'is', 'a', 'test', ',', 'Yes', sep = '_', end = '.')` 返回`This_is_a_test_,_Yes.`"
   ]
  },
  {
   "cell_type": "code",
   "execution_count": 122,
   "metadata": {},
   "outputs": [
    {
     "name": "stdout",
     "output_type": "stream",
     "text": [
      "This is a test\n",
      "This is a test\n",
      "This-is-a-test\n",
      "This_s_a_test_,_Yes."
     ]
    }
   ],
   "source": [
    "def print_string(*args, **kwargs):\n",
    "    print(*args, **kwargs)\n",
    "\n",
    "print_string('This is a test')\n",
    "print_string('This', 'is', 'a', 'test')\n",
    "print_string('This', 'is', 'a', 'test', sep = '-')\n",
    "print_string('This', 's', 'a', 'test', ',', 'Yes', sep = '_', end = '.')"
   ]
  },
  {
   "cell_type": "markdown",
   "metadata": {},
   "source": [
    "## 2. 打印斐波那契数列\n",
    "以三种方式打印波那契数列    \n",
    "给定一个数值n，将前n项的波那契数列打印出来"
   ]
  },
  {
   "cell_type": "markdown",
   "metadata": {},
   "source": [
    "## 定义：斐波那契数列\n",
    "指的是这样一个数列 1, 1, 2, 3, 5, 8, 13, 21, 34, 55, 89, 144, 233，377，610，987，1597，2584，4181，6765，10946，17711，28657，46368........\n",
    "这个数列从第3项开始，每一项都等于前两项之和。\n"
   ]
  },
  {
   "cell_type": "code",
   "execution_count": 18,
   "metadata": {},
   "outputs": [
    {
     "name": "stdout",
     "output_type": "stream",
     "text": [
      "enter number: 8\n",
      "1 1 2 3 5 8 13 21 "
     ]
    }
   ],
   "source": [
    "def fib1(n):    \n",
    "    # n = 1, 2 \n",
    "    if n < 3:\n",
    "        return 1\n",
    "    return fib1(n-2) + fib1(n-1)\n",
    "\n",
    "num = input('enter number: ')\n",
    "for i in range(1, int(num) + 1):\n",
    "    print(fib1(i), end = ' ')"
   ]
  },
  {
   "cell_type": "code",
   "execution_count": 9,
   "metadata": {},
   "outputs": [
    {
     "name": "stdout",
     "output_type": "stream",
     "text": [
      "enter number: 8\n",
      "1 1 2 3 5 8 13 21 "
     ]
    }
   ],
   "source": [
    "def fib2(n):\n",
    "    # initialize n1, n2\n",
    "    n1, n2 = 1, 1\n",
    "    for i in range(n - 2):\n",
    "        n1, n2 = n2, n1 + n2\n",
    "    return n2 \n",
    "\n",
    "num = input('enter number: ')\n",
    "for i in range(1, int(num) + 1):\n",
    "    print(fib2(i), end = ' ')"
   ]
  },
  {
   "cell_type": "code",
   "execution_count": 19,
   "metadata": {},
   "outputs": [
    {
     "name": "stdout",
     "output_type": "stream",
     "text": [
      "enter number: 8\n",
      "[1, 1, 2, 3, 5, 8, 13, 21]\n"
     ]
    }
   ],
   "source": [
    "def fib3(n):\n",
    "    # initialize i, n1, n2 \n",
    "    i, n1, n2 = 0, 0, 1\n",
    "    while i < n:\n",
    "        yield n2\n",
    "        n1, n2 = n2, n1 + n2\n",
    "        i += 1\n",
    "\n",
    "num = input('enter number: ')\n",
    "print([i for i in fib3(int(num))])"
   ]
  },
  {
   "cell_type": "code",
   "execution_count": 24,
   "metadata": {},
   "outputs": [
    {
     "name": "stdout",
     "output_type": "stream",
     "text": [
      "enter number: 10000\n",
      "[1, 1, 2, 3, 5, 8, 13, 21, 34, 55, 89, 144, 233, 377, 610, 987, 1597, 2584, 4181]\n"
     ]
    }
   ],
   "source": [
    "def fib4(n):\n",
    "    # initialize i, n1, n2 \n",
    "    i, n1, n2 = 0, 0, 1\n",
    "    while i < n:\n",
    "        yield n2\n",
    "        n1, n2 = n2, n1 + n2\n",
    "        i += 1\n",
    "        # the value of the sequence is within n\n",
    "        if n1 + n2 > n:\n",
    "            break\n",
    "        \n",
    "num = input('enter number: ')\n",
    "print([i for i in fib4(int(num))])"
   ]
  }
 ],
 "metadata": {
  "kernelspec": {
   "display_name": "Python 3",
   "language": "python",
   "name": "python3"
  },
  "language_info": {
   "codemirror_mode": {
    "name": "ipython",
    "version": 3
   },
   "file_extension": ".py",
   "mimetype": "text/x-python",
   "name": "python",
   "nbconvert_exporter": "python",
   "pygments_lexer": "ipython3",
   "version": "3.6.5"
  }
 },
 "nbformat": 4,
 "nbformat_minor": 4
}
