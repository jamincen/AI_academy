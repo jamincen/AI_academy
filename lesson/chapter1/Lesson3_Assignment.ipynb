{
 "cells": [
  {
   "cell_type": "markdown",
   "metadata": {},
   "source": [
    "## 1. 实现`print`函数\n",
    "定义一个函数`print_string`，返回一个字符串。  \n",
    "`print_string`函数支持输入多个参数，每个参数间使用参数`sep`(默认一个空格)的字符进行连接，并且最后还要添加一个`end`(默认一个换行)参数的字符。  \n",
    "比如\n",
    "- `print_string('This is a test')` 返回`This is a test\\n`  \n",
    "- `print_string('This', 'is', 'a', 'test')` 返回`This is a test\\n`\n",
    "- `print_string('This', 'is', 'a', 'test', sep = '-')` 返回`This-is-a-test\\n`\n",
    "- `print_string('This', 'is', 'a', 'test', ',', 'Yes', sep = '_', end = '.')` 返回`This_is_a_test_,_Yes.`"
   ]
  },
  {
   "cell_type": "code",
   "execution_count": null,
   "metadata": {},
   "outputs": [],
   "source": [
    "# your code here"
   ]
  },
  {
   "cell_type": "markdown",
   "metadata": {},
   "source": [
    "## 2. 打印斐波那契数列\n",
    "以三种方式打印波那契数列    \n",
    "给定一个数值n，将前n项的波那契数列打印出来"
   ]
  },
  {
   "cell_type": "code",
   "execution_count": null,
   "metadata": {},
   "outputs": [],
   "source": [
    "# your code here"
   ]
  },
  {
   "cell_type": "markdown",
   "metadata": {},
   "source": [
    "不会使用notebook，使用作业.PDF文件查看作业，上传.py文件"
   ]
  }
 ],
 "metadata": {
  "kernelspec": {
   "display_name": "ml",
   "language": "python",
   "name": "ml"
  },
  "language_info": {
   "codemirror_mode": {
    "name": "ipython",
    "version": 3
   },
   "file_extension": ".py",
   "mimetype": "text/x-python",
   "name": "python",
   "nbconvert_exporter": "python",
   "pygments_lexer": "ipython3",
   "version": "3.6.9"
  }
 },
 "nbformat": 4,
 "nbformat_minor": 4
}
