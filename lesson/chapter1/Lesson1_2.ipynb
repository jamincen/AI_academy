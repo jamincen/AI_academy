{
 "cells": [
  {
   "cell_type": "code",
   "execution_count": 2,
   "metadata": {},
   "outputs": [
    {
     "name": "stdout",
     "output_type": "stream",
     "text": [
      "甲：吃饭去吗？\n",
      "乙: 走，吃饭去！\n"
     ]
    }
   ],
   "source": [
    "print('甲：吃饭去吗？\\n乙: 走，吃饭去！')"
   ]
  },
  {
   "cell_type": "code",
   "execution_count": 3,
   "metadata": {},
   "outputs": [
    {
     "name": "stdout",
     "output_type": "stream",
     "text": [
      "甲：吃饭去吗？\n",
      "乙: 走，吃饭去！\n",
      "\n"
     ]
    }
   ],
   "source": [
    "string = '''甲：吃饭去吗？\n",
    "乙: 走，吃饭去！'''\n",
    "print(string)"
   ]
  },
  {
   "cell_type": "code",
   "execution_count": 6,
   "metadata": {},
   "outputs": [
    {
     "name": "stdout",
     "output_type": "stream",
     "text": [
      "\n",
      "　　 へ　　　　　／|\n",
      "　　/＼7　　　 ∠＿/\n",
      "　 /　│　　 ／　／\n",
      "　│　Z ＿,＜　／　　  /`ヽ\n",
      "　│　　　　　ヽ　　  /　　〉\n",
      "　 Y　　　　　`　  /　　/\n",
      "　ｲ●　､　●　⊂⊃  〈　　/\n",
      "　() へ　　 　|　  ＼〈\n",
      "　　>ｰ ､_　 ィ　│  ／／\n",
      "　 / へ　　 /　ﾉ＜| ＼＼\n",
      "　 ヽ_ﾉ　　(_／　│ ／／\n",
      "　　7　　　　　　|／\n",
      "　　＞―r￣￣`ｰ―＿\n"
     ]
    }
   ],
   "source": [
    "pikachu = '''\n",
    "　　 へ　　　　　／|\n",
    "　　/＼7　　　 ∠＿/\n",
    "　 /　│　　 ／　／\n",
    "　│　Z ＿,＜　／　　  /`ヽ\n",
    "　│　　　　　ヽ　　  /　　〉\n",
    "　 Y　　　　　`　  /　　/\n",
    "　ｲ●　､　●　⊂⊃  〈　　/\n",
    "　() へ　　 　|　  ＼〈\n",
    "　　>ｰ ､_　 ィ　│  ／／\n",
    "　 / へ　　 /　ﾉ＜| ＼＼\n",
    "　 ヽ_ﾉ　　(_／　│ ／／\n",
    "　　7　　　　　　|／\n",
    "　　＞―r￣￣`ｰ―＿'''\n",
    "print(pikachu)"
   ]
  },
  {
   "cell_type": "markdown",
   "metadata": {},
   "source": [
    "python中常见的转义字符  \n",
    "\n",
    "|转义字符|描述|\n",
    "|--|--|\n",
    "|`\\`(行尾)|续行|\n",
    "|`\\\\`| 反斜杠`\\`|\n",
    "|`\\\"`|双引号`\"`|\n",
    "|`\\'`|单引号`'`|\n",
    "|`\\n`|换行|\n",
    "|`\\t`|制表符(横向)|"
   ]
  },
  {
   "cell_type": "markdown",
   "metadata": {},
   "source": [
    "\\# Markdown 语法\n",
    "\\# 表示标题  多个#表示多个标题\\\n",
    "# 标题一\n",
    "## 标题二\n",
    "\n",
    "\\**** **文字**加粗  \n",
    "\\* *倾斜文字*  \n",
    "\n",
    "文字换行要在行尾加两个空格(这里没有空格)\n",
    "要不然就连在一起了。\n",
    "\n",
    "这里有  \n",
    "空格\n",
    "\n",
    "列表有两种：  \n",
    "无序列表\n",
    "- 项1\n",
    "\n",
    "有序列表：\n",
    "1. balala\n",
    "2. ppppp\n",
    "\n"
   ]
  },
  {
   "cell_type": "markdown",
   "metadata": {},
   "source": [
    "表达式运算符"
   ]
  },
  {
   "cell_type": "code",
   "execution_count": 9,
   "metadata": {},
   "outputs": [
    {
     "data": {
      "text/plain": [
       "25"
      ]
     },
     "execution_count": 9,
     "metadata": {},
     "output_type": "execute_result"
    }
   ],
   "source": [
    "5 ** 2"
   ]
  },
  {
   "cell_type": "code",
   "execution_count": 12,
   "metadata": {},
   "outputs": [
    {
     "data": {
      "text/plain": [
       "15"
      ]
     },
     "execution_count": 12,
     "metadata": {},
     "output_type": "execute_result"
    }
   ],
   "source": [
    "109 // 7"
   ]
  },
  {
   "cell_type": "code",
   "execution_count": 13,
   "metadata": {},
   "outputs": [
    {
     "data": {
      "text/plain": [
       "4"
      ]
     },
     "execution_count": 13,
     "metadata": {},
     "output_type": "execute_result"
    }
   ],
   "source": [
    "109 % 7"
   ]
  },
  {
   "cell_type": "code",
   "execution_count": null,
   "metadata": {},
   "outputs": [],
   "source": [
    "True False"
   ]
  },
  {
   "cell_type": "code",
   "execution_count": 14,
   "metadata": {},
   "outputs": [
    {
     "data": {
      "text/plain": [
       "True"
      ]
     },
     "execution_count": 14,
     "metadata": {},
     "output_type": "execute_result"
    }
   ],
   "source": [
    "bool(1)"
   ]
  },
  {
   "cell_type": "code",
   "execution_count": 26,
   "metadata": {},
   "outputs": [
    {
     "name": "stdout",
     "output_type": "stream",
     "text": [
      "50.0\n"
     ]
    }
   ],
   "source": [
    "# 注释 \n",
    "# 只是给自己看的\n",
    "# 不会给机器运行\n",
    "\n",
    "clicked = 100\n",
    "\n",
    "# clicked = clicked + 1\n",
    "\n",
    "clicked /= 2\n",
    "print(clicked)"
   ]
  },
  {
   "cell_type": "code",
   "execution_count": 15,
   "metadata": {},
   "outputs": [
    {
     "data": {
      "text/plain": [
       "True"
      ]
     },
     "execution_count": 15,
     "metadata": {},
     "output_type": "execute_result"
    }
   ],
   "source": [
    "bool(2)"
   ]
  },
  {
   "cell_type": "code",
   "execution_count": 16,
   "metadata": {},
   "outputs": [
    {
     "data": {
      "text/plain": [
       "False"
      ]
     },
     "execution_count": 16,
     "metadata": {},
     "output_type": "execute_result"
    }
   ],
   "source": [
    "bool(0)"
   ]
  },
  {
   "cell_type": "code",
   "execution_count": 19,
   "metadata": {},
   "outputs": [
    {
     "data": {
      "text/plain": [
       "True"
      ]
     },
     "execution_count": 19,
     "metadata": {},
     "output_type": "execute_result"
    }
   ],
   "source": [
    "three_is_a_number = True\n",
    "tree_is_a_number = False\n",
    "three_is_a_number or tree_is_a_number"
   ]
  },
  {
   "cell_type": "code",
   "execution_count": 20,
   "metadata": {},
   "outputs": [
    {
     "data": {
      "text/plain": [
       "1"
      ]
     },
     "execution_count": 20,
     "metadata": {},
     "output_type": "execute_result"
    }
   ],
   "source": [
    ">0的我们记为真\n",
    "0 记为假"
   ]
  },
  {
   "cell_type": "code",
   "execution_count": 21,
   "metadata": {},
   "outputs": [
    {
     "name": "stdout",
     "output_type": "stream",
     "text": [
      "1 - a 不等于 b\n",
      "2 - a 不等于 b\n",
      "4 - a 大于等于 b\n",
      "5 - a 大于 b\n",
      "6 - a 小于等于 b\n",
      "7 - b 大于等于 a\n"
     ]
    }
   ],
   "source": [
    "a = 21\n",
    "b = 10\n",
    "c = 0\n",
    " \n",
    "if  a == b :\n",
    "   print(\"1 - a 等于 b\")\n",
    "else:\n",
    "   print(\"1 - a 不等于 b\")\n",
    " \n",
    "if  a != b :\n",
    "   print(\"2 - a 不等于 b\")\n",
    "else:\n",
    "   print(\"2 - a 等于 b\")\n",
    " \n",
    "if  a < b :\n",
    "   print(\"4 - a 小于 b\")\n",
    "else:\n",
    "   print(\"4 - a 大于等于 b\")\n",
    " \n",
    "if  a > b :\n",
    "   print(\"5 - a 大于 b\")\n",
    "else:\n",
    "   print(\"5 - a 小于等于 b\")\n",
    " \n",
    "# 修改变量 a 和 b 的值\n",
    "a = 5\n",
    "b = 20\n",
    "if  a <= b :\n",
    "   print(\"6 - a 小于等于 b\")\n",
    "else:\n",
    "   print(\"6 - a 大于  b\")\n",
    " \n",
    "if  b >= a :\n",
    "   print(\"7 - b 大于等于 a\")\n",
    "else:\n",
    "   print(\"7 - b 小于 a\")"
   ]
  },
  {
   "cell_type": "code",
   "execution_count": null,
   "metadata": {},
   "outputs": [],
   "source": [
    "==\n",
    "!=\n",
    ">\n",
    "<\n",
    ">=\n",
    "<="
   ]
  },
  {
   "cell_type": "code",
   "execution_count": 27,
   "metadata": {},
   "outputs": [
    {
     "data": {
      "text/plain": [
       "0"
      ]
     },
     "execution_count": 27,
     "metadata": {},
     "output_type": "execute_result"
    }
   ],
   "source": [
    "2 // 3 and 1"
   ]
  },
  {
   "cell_type": "code",
   "execution_count": 28,
   "metadata": {},
   "outputs": [
    {
     "data": {
      "text/plain": [
       "1"
      ]
     },
     "execution_count": 28,
     "metadata": {},
     "output_type": "execute_result"
    }
   ],
   "source": [
    "10 % 3 == 3 or (True - False)"
   ]
  },
  {
   "cell_type": "markdown",
   "metadata": {},
   "source": [
    "变量名称，称为标识符，有一定的语法规范：\n",
    "\n",
    "- 第一个字符必须是字符或下划线 _ \n",
    "- 剩下的字符可以是字母，数字或下划线 _\n",
    "- 大小写敏感"
   ]
  },
  {
   "cell_type": "code",
   "execution_count": 30,
   "metadata": {},
   "outputs": [
    {
     "name": "stdout",
     "output_type": "stream",
     "text": [
      "关键字:\n",
      "\n",
      "Here is a list of the Python keywords.  Enter any keyword to get more help.\n",
      "\n",
      "False               class               from                or\n",
      "None                continue            global              pass\n",
      "True                def                 if                  raise\n",
      "and                 del                 import              return\n",
      "as                  elif                in                  try\n",
      "assert              else                is                  while\n",
      "async               except              lambda              with\n",
      "await               finally             nonlocal            yield\n",
      "break               for                 not                 \n",
      "\n"
     ]
    }
   ],
   "source": [
    "print('关键字:')\n",
    "help('keywords')"
   ]
  },
  {
   "cell_type": "code",
   "execution_count": 31,
   "metadata": {},
   "outputs": [
    {
     "data": {
      "text/plain": [
       "9.0"
      ]
     },
     "execution_count": 31,
     "metadata": {},
     "output_type": "execute_result"
    }
   ],
   "source": [
    "num = 2\n",
    "num2 = 4.5\n",
    "\n",
    "num * num2"
   ]
  },
  {
   "cell_type": "markdown",
   "metadata": {},
   "source": [
    "# 作业\n",
    "效果如下，自动计算圆的面积：  \n",
    "请输入圆的半径：  \n",
    "半径为 的圆的面积为："
   ]
  }
 ],
 "metadata": {
  "kernelspec": {
   "display_name": "Python 3",
   "language": "python",
   "name": "python3"
  },
  "language_info": {
   "codemirror_mode": {
    "name": "ipython",
    "version": 3
   },
   "file_extension": ".py",
   "mimetype": "text/x-python",
   "name": "python",
   "nbconvert_exporter": "python",
   "pygments_lexer": "ipython3",
   "version": "3.7.3"
  }
 },
 "nbformat": 4,
 "nbformat_minor": 2
}
